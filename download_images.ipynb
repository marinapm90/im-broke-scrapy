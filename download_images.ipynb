{
 "cells": [
  {
   "cell_type": "code",
   "execution_count": 7,
   "metadata": {},
   "outputs": [],
   "source": [
    "import requests\n",
    "from bs4 import BeautifulSoup\n",
    "import pandas as pd\n",
    "from pprint import pprint\n",
    "import urllib.request\n",
    "import shutil"
   ]
  },
  {
   "cell_type": "code",
   "execution_count": 3,
   "metadata": {},
   "outputs": [],
   "source": [
    "url2 = 'https://www.thisiswhyimbroke.com/'"
   ]
  },
  {
   "cell_type": "code",
   "execution_count": 42,
   "metadata": {},
   "outputs": [
    {
     "data": {
      "text/plain": [
       "'\\nresponse = requests.get(url2)\\nsoup = BeautifulSoup(response.text,\"html.parser\")\\nimages_container = soup.find(\"div\", {\\'class\\': \\'container large\\'})\\nimages = images_container.find_all(\"img\")\\nimages = [imagen.get(\"src\").replace(\",\",\"\") for imagen in images]\\nprotocolo = \"https:\"\\nfor images in images[0:17]:\\n    pprint(protocolo+images)\\n'"
      ]
     },
     "execution_count": 42,
     "metadata": {},
     "output_type": "execute_result"
    }
   ],
   "source": [
    "# Not working\n",
    "'''\n",
    "response = requests.get(url2)\n",
    "soup = BeautifulSoup(response.text,\"html.parser\")\n",
    "images_container = soup.find(\"div\", {'class': 'container large'})\n",
    "images = images_container.find_all(\"img\")\n",
    "images = [imagen.get(\"src\").replace(\",\",\"\") for imagen in images]\n",
    "protocolo = \"https:\"\n",
    "for images in images[0:17]:\n",
    "    pprint(protocolo+images)\n",
    "'''"
   ]
  },
  {
   "cell_type": "code",
   "execution_count": 34,
   "metadata": {},
   "outputs": [
    {
     "name": "stdout",
     "output_type": "stream",
     "text": [
      "'https:/assets/images/header-logo.png'\n",
      "'https:'\n",
      "'https:/assets/images/contact-msg.png'\n",
      "'https:/assets/images/cash-in-hand-logo-small2.png'\n"
     ]
    }
   ],
   "source": [
    "response = requests.get(url2)\n",
    "soup = BeautifulSoup(response.text,\"html.parser\")\n",
    "#images_container = soup.find(\"div\", {'class': 'row full-width-grid ng-scope'})\n",
    "images = soup.findAll(\"img\")\n",
    "images = [imagen.get(\"src\").replace(\",\",\"\") for imagen in images]\n",
    "protocolo = \"https:\"\n",
    "for images in images[0:17]:\n",
    "    pprint(protocolo+images)"
   ]
  },
  {
   "cell_type": "code",
   "execution_count": 32,
   "metadata": {},
   "outputs": [
    {
     "name": "stdout",
     "output_type": "stream",
     "text": [
      "/assets/images/header-logo.png\n",
      "\n",
      "/assets/images/contact-msg.png\n",
      "/assets/images/cash-in-hand-logo-small2.png\n"
     ]
    }
   ],
   "source": [
    "from bs4 import BeautifulSoup\n",
    "import requests\n",
    "\n",
    "url = 'https://www.thisiswhyimbroke.com/'\n",
    "# get contents from url\n",
    "content = requests.get(url).content\n",
    "# get soup\n",
    "soup = BeautifulSoup(content,'lxml') # choose lxml parser\n",
    "# find the tag : <img ... >\n",
    "image_tags = soup.findAll('img')\n",
    "# print out image urls\n",
    "for image_tag in image_tags:\n",
    "    print(image_tag.get('src'))"
   ]
  }
 ],
 "metadata": {
  "kernelspec": {
   "display_name": "Python 3",
   "language": "python",
   "name": "python3"
  },
  "language_info": {
   "codemirror_mode": {
    "name": "ipython",
    "version": 3
   },
   "file_extension": ".py",
   "mimetype": "text/x-python",
   "name": "python",
   "nbconvert_exporter": "python",
   "pygments_lexer": "ipython3",
   "version": "3.6.8"
  }
 },
 "nbformat": 4,
 "nbformat_minor": 4
}
