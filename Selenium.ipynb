{
 "cells": [
  {
   "cell_type": "code",
   "execution_count": 12,
   "metadata": {},
   "outputs": [
    {
     "name": "stderr",
     "output_type": "stream",
     "text": [
      "/home/marina/.local/lib/python3.6/site-packages/ipykernel_launcher.py:13: DeprecationWarning: use options instead of chrome_options\n",
      "  del sys.path[0]\n"
     ]
    },
    {
     "name": "stdout",
     "output_type": "stream",
     "text": [
      "What item is very usefull in a zombie apocalypse, but most people dont think about using it?\n",
      "This fantastic space sandbox game just got bigger - X4: Foundations Update 3.0 - A Lever to Move the World\n",
      "Ghana Coffin Dancers make video thanking doctors for their hard work and warn: \"Stay home or come dance with us\"\n",
      "This. Just... this.\n",
      "Making fun of men who lose their hair because of male pattern baldness is body shaming\n",
      "Hong Kong protesters say they were tortured in prison\n",
      "My first day of kindergarten 30 years apart.\n",
      "I'll always stop for a petting\n",
      "Man threatens guy and his family\n",
      "Michigan is considering move to ban guns inside state Capitol Building\n",
      "Cops arrest armed men, Texas bar owner who violated order to close - Sheriff said armed men were there to intimidate officers.\n",
      "Escoge entre 12 juegos diferentes con nuestra Mayo suscripción Humble Choice 2020, con un valor de más de 340 $. ¿Qué te emociona más?\n",
      "Apex Legends Season 5 – Fortune's Favor Launch Trailer Premiere\n",
      "A patient diagnosed with pneumonia near Paris on 27 December actually had the coronavirus, his doctor has said.\n",
      "What is the stupidest reason that you felt your masculinity hurt?\n",
      "As a military vet. I can honestly say that nothing is more disrespectful to the troops. Than armed gunmen in government buildings disrupting democracy with intimidation.\n",
      "I’m partially blind in my left eye. It doesn’t show any “red eye” in photos\n"
     ]
    },
    {
     "data": {
      "text/plain": [
       "[None,\n",
       " None,\n",
       " None,\n",
       " None,\n",
       " None,\n",
       " None,\n",
       " None,\n",
       " None,\n",
       " None,\n",
       " None,\n",
       " None,\n",
       " None,\n",
       " None,\n",
       " None,\n",
       " None,\n",
       " None,\n",
       " None]"
      ]
     },
     "execution_count": 12,
     "metadata": {},
     "output_type": "execute_result"
    }
   ],
   "source": [
    "from selenium import webdriver\n",
    "from selenium.webdriver.chrome.options import Options\n",
    "\n",
    "\n",
    "options = Options()\n",
    "options.add_argument(\"--disable-infobars\")\n",
    "options.add_experimental_option(\"prefs\",{\n",
    "    \"profile.default_content_setting_values.notifications\":1\n",
    "})\n",
    "\n",
    "\n",
    "chromedriver = \"/home/marina/im-broke-scrapy/chromedriver\"\n",
    "driver = webdriver.Chrome(chromedriver,chrome_options=options)\n",
    "driver.get(\"http://reddit.com\")\n",
    "\n",
    "'''\n",
    "login_btn = driver.find_element_by_class_name('_1HunhFR-0b-AYs0WG9mU_P')\n",
    "print(dir(login_btn))\n",
    "login_btn.click()\n",
    "\n",
    "frame = driver.find_element_by_xpath('//iframe[contains(@class, \"_25r3t_lrPF3M6zD2YkWvZU\")]')\n",
    "driver.switch_to.frame(frame)\n",
    "\n",
    "username_field = driver.find_element_by_id('loginUsername')\n",
    "username_field.click()\n",
    "username_field.send_keys('username')\n",
    "\n",
    "password_field = driver.find_element_by_id('loginPassword')\n",
    "password_field.click()\n",
    "password_field.send_keys('password')\n",
    "\n",
    "\n",
    "submit_btn = driver.find_element_by_class_name('AnimatedForm__submitButton')\n",
    "submit_btn.click()\n",
    "'''\n",
    "\n",
    "'''\n",
    "\n",
    "LayoutSwitch--picker\n",
    "\n",
    "_eYtD2XCVieq6emjKBH3m\n",
    "\n",
    "pthKOcceozMuXLYrLlbL1 _1WRDpeSLbiEc03Pp3Nh9H1\n",
    "\n",
    "/html/body/div[3]/div/button[2]\n",
    "\n",
    "'''\n",
    "\n",
    "view_btn = driver.find_element_by_id('LayoutSwitch--picker')\n",
    "view_btn.click()\n",
    "\n",
    "classic_btn= driver.find_element_by_css_selector('button._10K5i7NW6qcm-UoCtpB3aK._3LwUIE7yX7CZQKmD2L87vf._1F02c6Yw0dfhdWwl99UrYn._1oYEKCssGFjqxQ9jJMNj5G')\n",
    "classic_btn.click()\n",
    "\n",
    "post_titles= driver.find_elements_by_xpath('//h3[contains(@class, \"_eYtD2XCVieq6emjKBH3m\")]')\n",
    "\n",
    "[print(post.text)for post in post_titles]"
   ]
  },
  {
   "cell_type": "code",
   "execution_count": null,
   "metadata": {},
   "outputs": [],
   "source": []
  },
  {
   "cell_type": "code",
   "execution_count": null,
   "metadata": {},
   "outputs": [],
   "source": []
  }
 ],
 "metadata": {
  "kernelspec": {
   "display_name": "Python 3",
   "language": "python",
   "name": "python3"
  },
  "language_info": {
   "codemirror_mode": {
    "name": "ipython",
    "version": 3
   },
   "file_extension": ".py",
   "mimetype": "text/x-python",
   "name": "python",
   "nbconvert_exporter": "python",
   "pygments_lexer": "ipython3",
   "version": "3.6.9"
  }
 },
 "nbformat": 4,
 "nbformat_minor": 4
}
