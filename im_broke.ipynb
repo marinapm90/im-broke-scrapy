{
 "cells": [
  {
   "cell_type": "code",
   "execution_count": 50,
   "metadata": {},
   "outputs": [
    {
     "name": "stderr",
     "output_type": "stream",
     "text": [
      "/home/marina/.local/lib/python3.6/site-packages/ipykernel_launcher.py:14: DeprecationWarning: use options instead of chrome_options\n",
      "  \n"
     ]
    },
    {
     "name": "stdout",
     "output_type": "stream",
     "text": [
      "https://cdn.thisiswhyimbroke.com/images/the-kraken-male-vibrator-300x250.jpg\n",
      "https://cdn.thisiswhyimbroke.com/images/autoblow-automatic-blowjob-machine.gif\n",
      "https://cdn.thisiswhyimbroke.com/images/safety-light-curtains-cgoldenwall-300x250.jpg\n",
      "https://cdn.thisiswhyimbroke.com/images/plumbus-300x250.jpg\n",
      "https://cdn.thisiswhyimbroke.com/images/the-nophone-air-300x250.jpg\n",
      "https://cdn.thisiswhyimbroke.com/images/the-vibrator-necklace1-300x250.jpg\n",
      "https://cdn.thisiswhyimbroke.com/images/usb-kill-stick-destroys-any-pc-300x250.jpg\n",
      "https://cdn.thisiswhyimbroke.com/images/mods-international-pre-fabricated-shipping-container-home-300x250.jpg\n",
      "https://cdn.thisiswhyimbroke.com/images/face-sitting-chair-femdom-300x250.jpg\n",
      "https://cdn.thisiswhyimbroke.com/images/diy-vasectomy-kit-prank-box-300x250.jpg\n",
      "https://cdn.thisiswhyimbroke.com/images/why-i-must-have-sex-with-you-checklilst-knock-knock-300x250.jpg\n",
      "https://cdn.thisiswhyimbroke.com/images/nanoleaf-square-300x250.jpg\n",
      "https://cdn.thisiswhyimbroke.com/images/the-four-inch-tungsten-cube-300x250.jpg\n",
      "https://cdn.thisiswhyimbroke.com/images/before-you-drink-gummies-toast-supplements-300x250.jpg\n",
      "https://cdn.thisiswhyimbroke.com/images/ballistic-dart-launcher-globaledc-300x250.jpg\n",
      "https://cdn.thisiswhyimbroke.com/images/the-cheese-printer-300x250.jpg\n",
      "https://cdn.thisiswhyimbroke.com/images/canned-wifi-invisibles-pranks-gags-and-gifts-300x250.jpg\n",
      "https://cdn.thisiswhyimbroke.com/images/twelve-thousand-piece-puzzle-prank-pack-300x250.jpg\n",
      "https://cdn.thisiswhyimbroke.com/images/the-roto-wipe-prank-pack-300x250.jpg\n",
      "https://cdn.thisiswhyimbroke.com/images/modern-glass-cereal-bowl-300x250.jpg\n",
      "https://cdn.thisiswhyimbroke.com/images/underground-dog-house-dogeden1-300x250.jpg\n",
      "https://cdn.thisiswhyimbroke.com/images/fiber-optic-star-ceiling-kit-shine-300x250.jpg\n",
      "https://cdn.thisiswhyimbroke.com/images/everything-i-want-to-do-is-illegal-book-300x250.jpg\n",
      "https://cdn.thisiswhyimbroke.com/images/prank-shipping-box-embarassing-dildos-300x250.jpg\n"
     ]
    }
   ],
   "source": [
    "import urllib.request\n",
    "from selenium import webdriver\n",
    "from selenium.webdriver.chrome.options import Options\n",
    "\n",
    "\n",
    "options = Options()\n",
    "options.add_argument(\"--disable-infobars\")\n",
    "options.add_experimental_option(\"prefs\",{\n",
    "    \"profile.default_content_setting_values.notifications\":1\n",
    "})\n",
    "\n",
    "\n",
    "chromedriver = \"/home/marina/im-broke-scrapy/chromedriver\"\n",
    "driver = webdriver.Chrome(chromedriver,chrome_options=options)\n",
    "driver.get(\"https://www.thisiswhyimbroke.com/\")\n",
    "\n",
    "\n",
    "#driver.execute_script(\"window.scrollBy(0, 2000000)\")\n",
    "#time.sleep(0.5)\n",
    "\n",
    "\n",
    "\n",
    "image_elements = driver.find_elements_by_css_selector('#view > div.row.full-width-grid.ng-scope > div > article:nth-child(n) > div.ng-scope > div.image > a > img')\n",
    "\n",
    "for image in image_elements:\n",
    "    print(image.get_attribute('src'))\n",
    "\n",
    "\n",
    "# download the image\n",
    "#urllib.request.urlretrieve(src, \"imagen.png\")\n",
    "\n",
    "#driver.close()\n",
    "\n"
   ]
  }
 ],
 "metadata": {
  "kernelspec": {
   "display_name": "Python 3",
   "language": "python",
   "name": "python3"
  },
  "language_info": {
   "codemirror_mode": {
    "name": "ipython",
    "version": 3
   },
   "file_extension": ".py",
   "mimetype": "text/x-python",
   "name": "python",
   "nbconvert_exporter": "python",
   "pygments_lexer": "ipython3",
   "version": "3.6.9"
  }
 },
 "nbformat": 4,
 "nbformat_minor": 4
}
