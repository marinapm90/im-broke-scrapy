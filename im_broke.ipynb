{
 "cells": [
  {
   "cell_type": "code",
   "execution_count": 4,
   "metadata": {},
   "outputs": [
    {
     "name": "stderr",
     "output_type": "stream",
     "text": [
      "/home/marina/.local/lib/python3.6/site-packages/ipykernel_launcher.py:15: DeprecationWarning: use options instead of chrome_options\n",
      "  from ipykernel import kernelapp as app\n"
     ]
    },
    {
     "name": "stdout",
     "output_type": "stream",
     "text": [
      "https://cdn.thisiswhyimbroke.com/images/the-kraken-male-vibrator-300x250.jpg\n",
      "https://cdn.thisiswhyimbroke.com/images/autoblow-automatic-blowjob-machine.gif\n",
      "https://cdn.thisiswhyimbroke.com/images/plumbus-300x250.jpg\n",
      "https://cdn.thisiswhyimbroke.com/images/the-nophone-air-300x250.jpg\n",
      "https://cdn.thisiswhyimbroke.com/images/safety-light-curtains-cgoldenwall-300x250.jpg\n",
      "https://cdn.thisiswhyimbroke.com/images/usb-kill-stick-destroys-any-pc-300x250.jpg\n",
      "https://cdn.thisiswhyimbroke.com/images/mods-international-pre-fabricated-shipping-container-home-300x250.jpg\n",
      "https://cdn.thisiswhyimbroke.com/images/face-sitting-chair-femdom-300x250.jpg\n",
      "https://cdn.thisiswhyimbroke.com/images/diy-vasectomy-kit-prank-box-300x250.jpg\n",
      "https://cdn.thisiswhyimbroke.com/images/why-i-must-have-sex-with-you-checklilst-knock-knock-300x250.jpg\n",
      "https://cdn.thisiswhyimbroke.com/images/nanoleaf-square-300x250.jpg\n",
      "https://cdn.thisiswhyimbroke.com/images/fisheye-wearable-fish-camera-prank-pack-300x250.jpg\n",
      "https://cdn.thisiswhyimbroke.com/images/before-you-drink-gummies-toast-supplements-300x250.jpg\n",
      "https://cdn.thisiswhyimbroke.com/images/ballistic-dart-launcher-globaledc-300x250.jpg\n",
      "https://cdn.thisiswhyimbroke.com/images/the-cheese-printer-300x250.jpg\n",
      "https://cdn.thisiswhyimbroke.com/images/canned-wifi-invisibles-pranks-gags-and-gifts-300x250.jpg\n",
      "https://cdn.thisiswhyimbroke.com/images/twelve-thousand-piece-puzzle-prank-pack-300x250.jpg\n",
      "https://cdn.thisiswhyimbroke.com/images/the-roto-wipe-prank-pack-300x250.jpg\n",
      "https://cdn.thisiswhyimbroke.com/images/modern-glass-cereal-bowl-300x250.jpg\n",
      "https://cdn.thisiswhyimbroke.com/images/underground-dog-house-dogeden1-300x250.jpg\n",
      "https://cdn.thisiswhyimbroke.com/images/the-four-inch-tungsten-cube-300x250.jpg\n",
      "https://cdn.thisiswhyimbroke.com/images/fiber-optic-star-ceiling-kit-shine-300x250.jpg\n",
      "https://cdn.thisiswhyimbroke.com/images/everything-i-want-to-do-is-illegal-book-300x250.jpg\n",
      "https://cdn.thisiswhyimbroke.com/images/prank-shipping-box-embarassing-dildos-300x250.jpg\n",
      "http://www.amazon.com/dp/B07RYLWZJK/\n",
      "http://www.amazon.com/dp/B01CZ63JI6/?tag=097-20&ascsubtag=v7_1_3_2q15_4344_0_x01_-srt5-\n",
      "http://www.amazon.com/dp/B07P97VMVR/?tag=097-20&ascsubtag=v7_1_3_2q15_3re7_0_x01_-srt5-\n",
      "http://www.amazon.com/dp/B01NCF4TDT/?tag=097-20&ascsubtag=v7_1_3_2q15_44wd_0_x01_-srt5-\n",
      "http://www.amazon.com/dp/B00K1VXITI/?tag=097-20&ascsubtag=v7_1_3_2q15_5eiz_0_x01_-srt5-\n",
      "http://www.amazon.com/dp/B06ZZS7NFS/?tag=097-20&ascsubtag=v7_1_3_2q15_3emh_0_x01_-srt5-\n",
      "http://www.amazon.com/dp/B073FZ8PP9/?tag=097-20&ascsubtag=v7_1_3_2q15_451v_0_x01_-srt5-\n",
      "http://www.amazon.com/dp/0982119712/?tag=097-20&ascsubtag=v7_1_3_2q15_3kd0_0_x01_-srt5-\n",
      "http://www.amazon.com/dp/B07SSW1CLM/?tag=097-20&ascsubtag=v7_1_3_2q15_560i_0_x01_-srt5-\n",
      "http://www.amazon.com/dp/1601061609/?tag=097-20&ascsubtag=v7_1_3_2q15_526h_0_x01_-srt5-\n",
      "http://www.amazon.com/dp/B07LC23SVM/?tag=097-20&ascsubtag=v7_1_3_2q15_4b5i_0_x01_-srt5-\n",
      "http://www.amazon.com/dp/B00PUVP7WK/?tag=097-20&ascsubtag=v7_1_3_2q15_5e55_0_x01_-srt5-\n",
      "http://www.amazon.com/dp/B07XGD77LB/?tag=097-20&ascsubtag=v7_1_3_2q15_59ha_0_x01_-srt5-\n",
      "http://www.amazon.com/dp/B07X9QYJC8/?tag=097-20&ascsubtag=v7_1_3_2q15_56ze_0_x01_-srt5-\n",
      "http://www.amazon.com/dp/B0758358X6/?tag=097-20&ascsubtag=v7_1_3_2q15_53xn_0_x01_-srt5-\n",
      "http://www.amazon.com/dp/B07NP5SZJL/?tag=097-20&ascsubtag=v7_1_3_2q15_5b6h_0_x01_-srt5-\n",
      "http://www.amazon.com/dp/B0757ZY95C/?tag=097-20&ascsubtag=v7_1_3_2q15_5clt_0_x01_-srt5-\n",
      "http://www.amazon.com/dp/B07586Y1T9/?tag=097-20&ascsubtag=v7_1_3_2q15_597c_0_x01_-srt5-\n",
      "http://www.amazon.com/dp/B00015COVW/?tag=097-20&ascsubtag=v7_1_3_2q15_1hpa_0_x01_-srt5-\n",
      "http://www.amazon.com/dp/B01M7PMLVW/?tag=097-20&ascsubtag=v7_1_3_2q15_4d6l_0_x01_-srt5-\n",
      "http://www.amazon.com/dp/B07WK9WLZ8/?tag=097-20&ascsubtag=v7_1_3_2q15_5edo_0_x01_-srt5-\n",
      "http://www.amazon.com/dp/B071JLRTP2/?tag=097-20&ascsubtag=v7_1_3_2q15_59ib_0_x01_-srt5-\n",
      "http://www.amazon.com/dp/0963810952/?tag=097-20&ascsubtag=v7_1_3_2q15_1kxk_0_x01_-srt5-\n",
      "http://www.amazon.com/dp/B01N4NYGV0/?tag=097-20&ascsubtag=v7_1_3_2q15_3rkz_0_x01_-srt5-\n",
      "http://www.amazon.com/dp/B077N224TC/?tag=097-20&ascsubtag=v7_1_3_2q15_4e0j_0_x01_-srt5-\n",
      "http://www.amazon.com/dp/B00XLV72H4/?tag=097-20&ascsubtag=v7_1_3_2q15_4sxx_0_x01_-srt5-\n",
      "http://www.amazon.com/dp/B07W861FLM/?tag=097-20&ascsubtag=v7_1_3_2q15_5ara_0_x01_-srt5-\n",
      "http://www.amazon.com/dp/B079HVSYFC/?tag=097-20&ascsubtag=v7_1_3_2q15_4ter_0_x01_-srt5-\n",
      "http://www.amazon.com/dp/0867198028/?tag=097-20&ascsubtag=v7_1_3_2q15_2vsr_0_x01_-srt5-\n",
      "http://www.amazon.com/dp/B01DBR53FU/?tag=097-20&ascsubtag=v7_1_3_2q15_2nhz_0_x01_-srt5-\n",
      "http://www.amazon.com/dp/B07HPG7X7W/?tag=097-20&ascsubtag=v7_1_3_2q15_4t0p_0_x01_-srt5-\n",
      "http://www.amazon.com/dp/178627244X/?tag=097-20&ascsubtag=v7_1_3_2q15_4s1k_0_x01_-srt5-\n",
      "http://www.amazon.com/dp/1786272148/?tag=097-20&ascsubtag=v7_1_3_2q15_4zy2_0_x01_-srt5-\n",
      "http://www.amazon.com/dp/B00N1XM6TQ/?tag=097-20&ascsubtag=v7_1_3_2q15_5ecq_0_x01_-srt5-\n",
      "http://www.amazon.com/dp/B06XX3H5XL/?tag=097-20&ascsubtag=v7_1_3_2q15_5dry_0_x01_-srt5-\n",
      "http://www.amazon.com/dp/B07W4DYSYW/?tag=097-20&ascsubtag=v7_1_3_2q15_5cpu_0_x01_-srt5-\n"
     ]
    }
   ],
   "source": [
    "import urllib.request\n",
    "from selenium import webdriver\n",
    "from selenium.webdriver.chrome.options import Options\n",
    "import time\n",
    "import re\n",
    "\n",
    "options = Options()\n",
    "options.add_argument(\"--disable-infobars\")\n",
    "options.add_experimental_option(\"prefs\",{\n",
    "    \"profile.default_content_setting_values.notifications\":1\n",
    "})\n",
    "\n",
    "\n",
    "chromedriver = \"/home/marina/im-broke-scrapy/chromedriver\"\n",
    "driver = webdriver.Chrome(chromedriver,chrome_options=options)\n",
    "driver.get(\"https://www.thisiswhyimbroke.com\")\n",
    "\n",
    "time.sleep(1.5)\n",
    "driver.execute_script(\"window.scrollBy(0, 1000000)\")\n",
    "\n",
    "#driver.execute_script(\"window.scrollTo(0,document.body.scrollHeight)\")\n",
    "\n",
    "\n",
    "image_elements = driver.find_elements_by_css_selector('#view > div.row.full-width-grid.ng-scope > div > article:nth-child(n) > div.ng-scope > div.image > a > img')\n",
    "\n",
    "for image in image_elements:\n",
    "    print(image.get_attribute('src'))\n",
    "\n",
    "\n",
    "url_elements = image_elements = driver.find_elements_by_css_selector('#view > div.row.full-width-grid.ng-scope > div > article:nth-child(n) > div.ng-scope > div.image > a')  \n",
    "\n",
    "for url in url_elements:\n",
    "    url= url.get_attribute('href').replace(r\"?tag=097-20&ascsubtag=v7_1_3_2q15_5b1y_0_x01_-srt5-\",\"\")\n",
    "    #urls = url.append(url)\n",
    "    print(url)\n",
    "    \n",
    "#url.replace(r\"?tag=097-20&ascsubtag=v7_1_3_2q15_5b1y_0_x01_-srt5-\",\"\")\n",
    "  \n",
    "    \n",
    "# download the image\n",
    "#urllib.request.urlretrieve(src, \"imagen.png\")\n",
    "\n",
    "#driver.close()\n",
    "\n"
   ]
  },
  {
   "cell_type": "code",
   "execution_count": 52,
   "metadata": {},
   "outputs": [
    {
     "ename": "AttributeError",
     "evalue": "'str' object has no attribute 'get_attribute'",
     "output_type": "error",
     "traceback": [
      "\u001b[0;31m---------------------------------------------------------------------------\u001b[0m",
      "\u001b[0;31mAttributeError\u001b[0m                            Traceback (most recent call last)",
      "\u001b[0;32m<ipython-input-52-0d9895c04401>\u001b[0m in \u001b[0;36m<module>\u001b[0;34m\u001b[0m\n\u001b[1;32m      5\u001b[0m \u001b[0;34m\u001b[0m\u001b[0m\n\u001b[1;32m      6\u001b[0m \u001b[0;32mfor\u001b[0m \u001b[0murl\u001b[0m \u001b[0;32min\u001b[0m \u001b[0murl_elements\u001b[0m\u001b[0;34m:\u001b[0m\u001b[0;34m\u001b[0m\u001b[0;34m\u001b[0m\u001b[0m\n\u001b[0;32m----> 7\u001b[0;31m     \u001b[0murl\u001b[0m\u001b[0;34m.\u001b[0m\u001b[0mget_attribute\u001b[0m\u001b[0;34m(\u001b[0m\u001b[0;34m'href'\u001b[0m\u001b[0;34m)\u001b[0m\u001b[0;34m.\u001b[0m\u001b[0mreplace\u001b[0m\u001b[0;34m(\u001b[0m\u001b[0;34mr\"?tag=097-20&ascsubtag=v7_1_3_2q15_5b1y_0_x01_-srt5-\"\u001b[0m\u001b[0;34m,\u001b[0m\u001b[0;34m\"\"\u001b[0m\u001b[0;34m)\u001b[0m\u001b[0;34m\u001b[0m\u001b[0;34m\u001b[0m\u001b[0m\n\u001b[0m\u001b[1;32m      8\u001b[0m     \u001b[0mprint\u001b[0m\u001b[0;34m(\u001b[0m\u001b[0murl\u001b[0m\u001b[0;34m)\u001b[0m\u001b[0;34m\u001b[0m\u001b[0;34m\u001b[0m\u001b[0m\n\u001b[1;32m      9\u001b[0m     \u001b[0;31m#urls = url.append(url)\u001b[0m\u001b[0;34m\u001b[0m\u001b[0;34m\u001b[0m\u001b[0;34m\u001b[0m\u001b[0m\n",
      "\u001b[0;31mAttributeError\u001b[0m: 'str' object has no attribute 'get_attribute'"
     ]
    }
   ],
   "source": [
    "url_elements = image_elements = driver.find_elements_by_css_selector('#view > div.row.full-width-grid.ng-scope > div > article:nth-child(n) > div.ng-scope > div.image > a')    \n",
    "\n",
    "urls= []\n",
    "\n",
    "for url in url_elements:\n",
    "    url.get_attribute('href').replace(r\"?tag=097-20&ascsubtag=v7_1_3_2q15_5b1y_0_x01_-srt5-\",\"\")\n",
    "    print(url)\n",
    "    #urls = url.append(url)\n",
    "    #print(url)\n",
    "\n",
    "    \n",
    "HeadLines=driver.find_elements_by_class_name(\"css-1dq8tca\")\n",
    "\n",
    "len(HeadLines)\n",
    "HeadLine_M=[]\n",
    "for HeadLine in HeadLines:\n",
    "    print(HeadLine.text)\n",
    "    HeadLine_M.append(HeadLine.text)\n",
    "HeadLine_M"
   ]
  },
  {
   "cell_type": "code",
   "execution_count": 64,
   "metadata": {},
   "outputs": [
    {
     "ename": "AttributeError",
     "evalue": "'WebElement' object has no attribute 'href'",
     "output_type": "error",
     "traceback": [
      "\u001b[0;31m---------------------------------------------------------------------------\u001b[0m",
      "\u001b[0;31mAttributeError\u001b[0m                            Traceback (most recent call last)",
      "\u001b[0;32m<ipython-input-64-599f1af29807>\u001b[0m in \u001b[0;36m<module>\u001b[0;34m\u001b[0m\n\u001b[1;32m      4\u001b[0m \u001b[0;34m\u001b[0m\u001b[0m\n\u001b[1;32m      5\u001b[0m \u001b[0;32mfor\u001b[0m \u001b[0murl\u001b[0m \u001b[0;32min\u001b[0m \u001b[0murl_elements\u001b[0m\u001b[0;34m:\u001b[0m\u001b[0;34m\u001b[0m\u001b[0;34m\u001b[0m\u001b[0m\n\u001b[0;32m----> 6\u001b[0;31m     \u001b[0mprint\u001b[0m\u001b[0;34m(\u001b[0m\u001b[0murl\u001b[0m\u001b[0;34m.\u001b[0m\u001b[0mhref\u001b[0m\u001b[0;34m)\u001b[0m\u001b[0;34m\u001b[0m\u001b[0;34m\u001b[0m\u001b[0m\n\u001b[0m\u001b[1;32m      7\u001b[0m     \u001b[0murls\u001b[0m\u001b[0;34m.\u001b[0m\u001b[0mappend\u001b[0m\u001b[0;34m(\u001b[0m\u001b[0murl\u001b[0m\u001b[0;34m.\u001b[0m\u001b[0mhref\u001b[0m\u001b[0;34m)\u001b[0m\u001b[0;34m\u001b[0m\u001b[0;34m\u001b[0m\u001b[0m\n\u001b[1;32m      8\u001b[0m     \u001b[0;31m#urls = url.append(url)\u001b[0m\u001b[0;34m\u001b[0m\u001b[0;34m\u001b[0m\u001b[0;34m\u001b[0m\u001b[0m\n",
      "\u001b[0;31mAttributeError\u001b[0m: 'WebElement' object has no attribute 'href'"
     ]
    }
   ],
   "source": [
    "url_elements = image_elements = driver.find_elements_by_css_selector('#view > div.row.full-width-grid.ng-scope > div > article:nth-child(n) > div.ng-scope > div.image > a')    \n",
    "\n",
    "urls= []\n",
    "\n",
    "for url in url_elements:\n",
    "    print(url.href)\n",
    "    urls.append(url.href)\n",
    "    #urls = url.append(url)\n",
    "    #print(url)\n",
    "print(urls)"
   ]
  },
  {
   "cell_type": "code",
   "execution_count": 61,
   "metadata": {},
   "outputs": [
    {
     "ename": "AttributeError",
     "evalue": "'list' object has no attribute 'join'",
     "output_type": "error",
     "traceback": [
      "\u001b[0;31m---------------------------------------------------------------------------\u001b[0m",
      "\u001b[0;31mAttributeError\u001b[0m                            Traceback (most recent call last)",
      "\u001b[0;32m<ipython-input-61-a9c273cdf1c0>\u001b[0m in \u001b[0;36m<module>\u001b[0;34m\u001b[0m\n\u001b[1;32m      7\u001b[0m     \u001b[0murl\u001b[0m\u001b[0;34m=\u001b[0m \u001b[0murl\u001b[0m\u001b[0;34m.\u001b[0m\u001b[0mget_attribute\u001b[0m\u001b[0;34m(\u001b[0m\u001b[0;34m'href'\u001b[0m\u001b[0;34m)\u001b[0m\u001b[0;34m.\u001b[0m\u001b[0mreplace\u001b[0m\u001b[0;34m(\u001b[0m\u001b[0;34mr\"?tag=097-20&ascsubtag=v7_1_3_2q15_5b1y_0_x01_-srt5-\"\u001b[0m\u001b[0;34m,\u001b[0m\u001b[0;34m\"\"\u001b[0m\u001b[0;34m)\u001b[0m\u001b[0;34m\u001b[0m\u001b[0;34m\u001b[0m\u001b[0m\n\u001b[1;32m      8\u001b[0m     \u001b[0murls\u001b[0m \u001b[0;34m+=\u001b[0m \u001b[0murl\u001b[0m\u001b[0;34m\u001b[0m\u001b[0;34m\u001b[0m\u001b[0m\n\u001b[0;32m----> 9\u001b[0;31m     \u001b[0mprint\u001b[0m\u001b[0;34m(\u001b[0m\u001b[0murls\u001b[0m\u001b[0;34m.\u001b[0m\u001b[0mjoin\u001b[0m\u001b[0;34m(\u001b[0m\u001b[0murl\u001b[0m\u001b[0;34m)\u001b[0m\u001b[0;34m)\u001b[0m\u001b[0;34m\u001b[0m\u001b[0;34m\u001b[0m\u001b[0m\n\u001b[0m",
      "\u001b[0;31mAttributeError\u001b[0m: 'list' object has no attribute 'join'"
     ]
    }
   ],
   "source": [
    "url_elements = image_elements = driver.find_elements_by_css_selector('#view > div.row.full-width-grid.ng-scope > div > article:nth-child(n) > div.ng-scope > div.image > a')    \n",
    "\n",
    "\n",
    "urls= []\n",
    "\n",
    "for url in url_elements:\n",
    "    url= url.get_attribute('href').replace(r\"?tag=097-20&ascsubtag=v7_1_3_2q15_5b1y_0_x01_-srt5-\",\"\")\n",
    "    urls += url\n",
    "    print(urls.join(urls))"
   ]
  },
  {
   "cell_type": "code",
   "execution_count": 55,
   "metadata": {},
   "outputs": [
    {
     "data": {
      "text/plain": [
       "'http://www.amazon.com/dp/1786272148/?tag=097-20&ascsubtag=v7_1_3_2q15_4zy2_0_x01_-srt5-'"
      ]
     },
     "execution_count": 55,
     "metadata": {},
     "output_type": "execute_result"
    }
   ],
   "source": [
    "url"
   ]
  }
 ],
 "metadata": {
  "kernelspec": {
   "display_name": "Python 3",
   "language": "python",
   "name": "python3"
  },
  "language_info": {
   "codemirror_mode": {
    "name": "ipython",
    "version": 3
   },
   "file_extension": ".py",
   "mimetype": "text/x-python",
   "name": "python",
   "nbconvert_exporter": "python",
   "pygments_lexer": "ipython3",
   "version": "3.6.9"
  }
 },
 "nbformat": 4,
 "nbformat_minor": 4
}
