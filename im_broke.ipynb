{
 "cells": [
  {
   "cell_type": "code",
   "execution_count": 9,
   "metadata": {},
   "outputs": [
    {
     "name": "stderr",
     "output_type": "stream",
     "text": [
      "/home/marina/.local/lib/python3.6/site-packages/ipykernel_launcher.py:16: DeprecationWarning: use options instead of chrome_options\n",
      "  app.launch_new_instance()\n"
     ]
    },
    {
     "ename": "AttributeError",
     "evalue": "'WebDriver' object has no attribute 'click'",
     "output_type": "error",
     "traceback": [
      "\u001b[0;31m---------------------------------------------------------------------------\u001b[0m",
      "\u001b[0;31mAttributeError\u001b[0m                            Traceback (most recent call last)",
      "\u001b[0;32m<ipython-input-9-48da4c74ccfd>\u001b[0m in \u001b[0;36m<module>\u001b[0;34m\u001b[0m\n\u001b[1;32m     22\u001b[0m \u001b[0;31m#driver.execute_script(\"window.scrollTo(0,document.body.scrollHeight)\")\u001b[0m\u001b[0;34m\u001b[0m\u001b[0;34m\u001b[0m\u001b[0;34m\u001b[0m\u001b[0m\n\u001b[1;32m     23\u001b[0m \u001b[0;34m\u001b[0m\u001b[0m\n\u001b[0;32m---> 24\u001b[0;31m \u001b[0mdriver\u001b[0m\u001b[0;34m.\u001b[0m\u001b[0mclick\u001b[0m\u001b[0;34m(\u001b[0m\u001b[0;34m)\u001b[0m\u001b[0;34m\u001b[0m\u001b[0;34m\u001b[0m\u001b[0m\n\u001b[0m\u001b[1;32m     25\u001b[0m \u001b[0msleep\u001b[0m\u001b[0;34m(\u001b[0m\u001b[0;36m0.5\u001b[0m\u001b[0;34m)\u001b[0m\u001b[0;34m\u001b[0m\u001b[0;34m\u001b[0m\u001b[0m\n\u001b[1;32m     26\u001b[0m \u001b[0;34m\u001b[0m\u001b[0m\n",
      "\u001b[0;31mAttributeError\u001b[0m: 'WebDriver' object has no attribute 'click'"
     ]
    }
   ],
   "source": [
    "import urllib.request\n",
    "from selenium import webdriver\n",
    "from selenium.webdriver.chrome.options import Options\n",
    "import time\n",
    "import re\n",
    "\n",
    "options = Options()\n",
    "options.add_argument(\"--disable-infobars\")\n",
    "options.add_experimental_option(\"prefs\",{\n",
    "    \"profile.default_content_setting_values.notifications\":1\n",
    "})\n",
    "\n",
    "\n",
    "chromedriver = \"/home/marina/im-broke-scrapy/chromedriver\"\n",
    "driver = webdriver.Chrome(chromedriver,chrome_options=options)\n",
    "driver.get(\"http://www.thisiswhyimbroke.com\")\n",
    "\n",
    "#time.sleep(1.5)\n",
    "#driver.execute_script(\"window.scrollBy(0, 1000000)\")\n",
    "\n",
    "#driver.execute_script(\"window.scrollTo(0,document.body.scrollHeight)\")\n",
    "\n",
    "\n",
    "image_elements = driver.find_elements_by_css_selector('#view > div.row.full-width-grid.ng-scope > div > article:nth-child(n) > div.ng-scope > div.image > a > img')\n",
    "\n",
    "for image in image_elements:\n",
    "    print(image.get_attribute('src'))\n",
    "\n",
    "\n",
    "url_elements = image_elements = driver.find_elements_by_css_selector('#view > div.row.full-width-grid.ng-scope > div > article:nth-child(n) > div.ng-scope > div.image > a')  \n",
    "\n",
    "for url in url_elements:\n",
    "    url= url.get_attribute('href').replace(r\"?tag=097-20&ascsubtag=v7_1_3_2q15_5b1y_0_x01_-srt5-\",\"\")\n",
    "    #urls = url.append(url)\n",
    "    print(url)\n",
    "    \n",
    "#url.replace(r\"?tag=097-20&ascsubtag=v7_1_3_2q15_5b1y_0_x01_-srt5-\",\"\")\n",
    "  \n",
    "    \n",
    "# download the image\n",
    "#urllib.request.urlretrieve(src, \"imagen.png\")\n",
    "\n",
    "#driver.close()\n",
    "\n"
   ]
  },
  {
   "cell_type": "code",
   "execution_count": 52,
   "metadata": {},
   "outputs": [
    {
     "ename": "AttributeError",
     "evalue": "'str' object has no attribute 'get_attribute'",
     "output_type": "error",
     "traceback": [
      "\u001b[0;31m---------------------------------------------------------------------------\u001b[0m",
      "\u001b[0;31mAttributeError\u001b[0m                            Traceback (most recent call last)",
      "\u001b[0;32m<ipython-input-52-0d9895c04401>\u001b[0m in \u001b[0;36m<module>\u001b[0;34m\u001b[0m\n\u001b[1;32m      5\u001b[0m \u001b[0;34m\u001b[0m\u001b[0m\n\u001b[1;32m      6\u001b[0m \u001b[0;32mfor\u001b[0m \u001b[0murl\u001b[0m \u001b[0;32min\u001b[0m \u001b[0murl_elements\u001b[0m\u001b[0;34m:\u001b[0m\u001b[0;34m\u001b[0m\u001b[0;34m\u001b[0m\u001b[0m\n\u001b[0;32m----> 7\u001b[0;31m     \u001b[0murl\u001b[0m\u001b[0;34m.\u001b[0m\u001b[0mget_attribute\u001b[0m\u001b[0;34m(\u001b[0m\u001b[0;34m'href'\u001b[0m\u001b[0;34m)\u001b[0m\u001b[0;34m.\u001b[0m\u001b[0mreplace\u001b[0m\u001b[0;34m(\u001b[0m\u001b[0;34mr\"?tag=097-20&ascsubtag=v7_1_3_2q15_5b1y_0_x01_-srt5-\"\u001b[0m\u001b[0;34m,\u001b[0m\u001b[0;34m\"\"\u001b[0m\u001b[0;34m)\u001b[0m\u001b[0;34m\u001b[0m\u001b[0;34m\u001b[0m\u001b[0m\n\u001b[0m\u001b[1;32m      8\u001b[0m     \u001b[0mprint\u001b[0m\u001b[0;34m(\u001b[0m\u001b[0murl\u001b[0m\u001b[0;34m)\u001b[0m\u001b[0;34m\u001b[0m\u001b[0;34m\u001b[0m\u001b[0m\n\u001b[1;32m      9\u001b[0m     \u001b[0;31m#urls = url.append(url)\u001b[0m\u001b[0;34m\u001b[0m\u001b[0;34m\u001b[0m\u001b[0;34m\u001b[0m\u001b[0m\n",
      "\u001b[0;31mAttributeError\u001b[0m: 'str' object has no attribute 'get_attribute'"
     ]
    }
   ],
   "source": [
    "url_elements = image_elements = driver.find_elements_by_css_selector('#view > div.row.full-width-grid.ng-scope > div > article:nth-child(n) > div.ng-scope > div.image > a')    \n",
    "\n",
    "urls= []\n",
    "\n",
    "for url in url_elements:\n",
    "    url.get_attribute('href').replace(r\"?tag=097-20&ascsubtag=v7_1_3_2q15_5b1y_0_x01_-srt5-\",\"\")\n",
    "    print(url)\n",
    "    #urls = url.append(url)\n",
    "    #print(url)\n",
    "\n",
    "    \n",
    "HeadLines=driver.find_elements_by_class_name(\"css-1dq8tca\")\n",
    "\n",
    "len(HeadLines)\n",
    "HeadLine_M=[]\n",
    "for HeadLine in HeadLines:\n",
    "    print(HeadLine.text)\n",
    "    HeadLine_M.append(HeadLine.text)\n",
    "HeadLine_M"
   ]
  },
  {
   "cell_type": "code",
   "execution_count": 64,
   "metadata": {},
   "outputs": [
    {
     "ename": "AttributeError",
     "evalue": "'WebElement' object has no attribute 'href'",
     "output_type": "error",
     "traceback": [
      "\u001b[0;31m---------------------------------------------------------------------------\u001b[0m",
      "\u001b[0;31mAttributeError\u001b[0m                            Traceback (most recent call last)",
      "\u001b[0;32m<ipython-input-64-599f1af29807>\u001b[0m in \u001b[0;36m<module>\u001b[0;34m\u001b[0m\n\u001b[1;32m      4\u001b[0m \u001b[0;34m\u001b[0m\u001b[0m\n\u001b[1;32m      5\u001b[0m \u001b[0;32mfor\u001b[0m \u001b[0murl\u001b[0m \u001b[0;32min\u001b[0m \u001b[0murl_elements\u001b[0m\u001b[0;34m:\u001b[0m\u001b[0;34m\u001b[0m\u001b[0;34m\u001b[0m\u001b[0m\n\u001b[0;32m----> 6\u001b[0;31m     \u001b[0mprint\u001b[0m\u001b[0;34m(\u001b[0m\u001b[0murl\u001b[0m\u001b[0;34m.\u001b[0m\u001b[0mhref\u001b[0m\u001b[0;34m)\u001b[0m\u001b[0;34m\u001b[0m\u001b[0;34m\u001b[0m\u001b[0m\n\u001b[0m\u001b[1;32m      7\u001b[0m     \u001b[0murls\u001b[0m\u001b[0;34m.\u001b[0m\u001b[0mappend\u001b[0m\u001b[0;34m(\u001b[0m\u001b[0murl\u001b[0m\u001b[0;34m.\u001b[0m\u001b[0mhref\u001b[0m\u001b[0;34m)\u001b[0m\u001b[0;34m\u001b[0m\u001b[0;34m\u001b[0m\u001b[0m\n\u001b[1;32m      8\u001b[0m     \u001b[0;31m#urls = url.append(url)\u001b[0m\u001b[0;34m\u001b[0m\u001b[0;34m\u001b[0m\u001b[0;34m\u001b[0m\u001b[0m\n",
      "\u001b[0;31mAttributeError\u001b[0m: 'WebElement' object has no attribute 'href'"
     ]
    }
   ],
   "source": [
    "url_elements = image_elements = driver.find_elements_by_css_selector('#view > div.row.full-width-grid.ng-scope > div > article:nth-child(n) > div.ng-scope > div.image > a')    \n",
    "\n",
    "urls= []\n",
    "\n",
    "for url in url_elements:\n",
    "    print(url.href)\n",
    "    urls.append(url.href)\n",
    "    #urls = url.append(url)\n",
    "    #print(url)\n",
    "print(urls)"
   ]
  },
  {
   "cell_type": "code",
   "execution_count": 61,
   "metadata": {},
   "outputs": [
    {
     "ename": "AttributeError",
     "evalue": "'list' object has no attribute 'join'",
     "output_type": "error",
     "traceback": [
      "\u001b[0;31m---------------------------------------------------------------------------\u001b[0m",
      "\u001b[0;31mAttributeError\u001b[0m                            Traceback (most recent call last)",
      "\u001b[0;32m<ipython-input-61-a9c273cdf1c0>\u001b[0m in \u001b[0;36m<module>\u001b[0;34m\u001b[0m\n\u001b[1;32m      7\u001b[0m     \u001b[0murl\u001b[0m\u001b[0;34m=\u001b[0m \u001b[0murl\u001b[0m\u001b[0;34m.\u001b[0m\u001b[0mget_attribute\u001b[0m\u001b[0;34m(\u001b[0m\u001b[0;34m'href'\u001b[0m\u001b[0;34m)\u001b[0m\u001b[0;34m.\u001b[0m\u001b[0mreplace\u001b[0m\u001b[0;34m(\u001b[0m\u001b[0;34mr\"?tag=097-20&ascsubtag=v7_1_3_2q15_5b1y_0_x01_-srt5-\"\u001b[0m\u001b[0;34m,\u001b[0m\u001b[0;34m\"\"\u001b[0m\u001b[0;34m)\u001b[0m\u001b[0;34m\u001b[0m\u001b[0;34m\u001b[0m\u001b[0m\n\u001b[1;32m      8\u001b[0m     \u001b[0murls\u001b[0m \u001b[0;34m+=\u001b[0m \u001b[0murl\u001b[0m\u001b[0;34m\u001b[0m\u001b[0;34m\u001b[0m\u001b[0m\n\u001b[0;32m----> 9\u001b[0;31m     \u001b[0mprint\u001b[0m\u001b[0;34m(\u001b[0m\u001b[0murls\u001b[0m\u001b[0;34m.\u001b[0m\u001b[0mjoin\u001b[0m\u001b[0;34m(\u001b[0m\u001b[0murl\u001b[0m\u001b[0;34m)\u001b[0m\u001b[0;34m)\u001b[0m\u001b[0;34m\u001b[0m\u001b[0;34m\u001b[0m\u001b[0m\n\u001b[0m",
      "\u001b[0;31mAttributeError\u001b[0m: 'list' object has no attribute 'join'"
     ]
    }
   ],
   "source": [
    "url_elements = image_elements = driver.find_elements_by_css_selector('#view > div.row.full-width-grid.ng-scope > div > article:nth-child(n) > div.ng-scope > div.image > a')    \n",
    "\n",
    "\n",
    "urls= []\n",
    "\n",
    "for url in url_elements:\n",
    "    url= url.get_attribute('href').replace(r\"?tag=097-20&ascsubtag=v7_1_3_2q15_5b1y_0_x01_-srt5-\",\"\")\n",
    "    urls += url\n",
    "    print(urls.join(urls))"
   ]
  },
  {
   "cell_type": "code",
   "execution_count": 12,
   "metadata": {},
   "outputs": [
    {
     "name": "stdout",
     "output_type": "stream",
     "text": [
      "https://cdn.thisiswhyimbroke.com/images/razer-blade-stealth-gaming-laptop-300x250.jpg\n",
      "https://cdn.thisiswhyimbroke.com/images/cinnamon-toast-crunch-ice-cream-pint-300x250.jpg\n",
      "https://cdn.thisiswhyimbroke.com/images/personalized-paint-by-numbers-kit-colourlifefinds-300x250.jpg\n",
      "https://cdn.thisiswhyimbroke.com/images/titanium-wrench-tiactical-pocket-knife-300x250.jpg\n",
      "https://cdn.thisiswhyimbroke.com/images/playstation-console-wall-clock-creativefunny-300x250.jpg\n",
      "https://cdn.thisiswhyimbroke.com/images/prison-mike-air-freshener-fanomreads-300x250.jpg\n",
      "https://cdn.thisiswhyimbroke.com/images/i-could-pee-on-this-poems-by-cats-300x250.jpg\n",
      "https://cdn.thisiswhyimbroke.com/cropped_creatives/5c7a95d2e4c00000/rJoxtwg9I.png\n",
      "https://cdn.thisiswhyimbroke.com/images/one-handed-salt-and-pepper-grinder-dreamfarmer-300x250.jpg\n",
      "https://cdn.thisiswhyimbroke.com/images/green-smoke-grenade-300x250.jpg\n",
      "https://cdn.thisiswhyimbroke.com/images/Zero-3-Hybrid-Bifold-Card-Wallet-in-Carbon-Fiber-300x250.jpg\n",
      "https://cdn.thisiswhyimbroke.com/images/lg-ultrawide-monitor-300x250.jpg\n",
      "https://cdn.thisiswhyimbroke.com/images/cheat-sheets-removable-sheet-pan-dividers-300x250.jpg\n",
      "https://cdn.thisiswhyimbroke.com/images/rentable-superyacht-sherakhan1-300x250.jpg\n",
      "https://cdn.thisiswhyimbroke.com/images/personalized-love-letter-blanket-frankieprintco-300x250.jpg\n",
      "https://cdn.thisiswhyimbroke.com/images/the-teslasuit-vr-glove-300x250.jpg\n",
      "\n",
      "https://cdn.thisiswhyimbroke.com/images/air-jordan-gift-of-flight-package-300x250.jpg\n",
      "https://cdn.thisiswhyimbroke.com/images/fisheye-wearable-fish-camera-prank-pack-300x250.jpg\n",
      "https://cdn.thisiswhyimbroke.com/images/meater-wireless-meat-thermometer-300x250.jpg\n",
      "https://cdn.thisiswhyimbroke.com/images/cat-butt-coloring-book-300x250.jpg\n",
      "https://cdn.thisiswhyimbroke.com/images/expandable-mummy-sleeping-bag-300x250.jpg\n",
      "https://cdn.thisiswhyimbroke.com/images/indoor-golf-putting-vent-cup-300x250.jpg\n",
      "https://cdn.thisiswhyimbroke.com/images/Inertix-Cyberpunk-Pocket-Exoblade-Knife-300x250.jpg\n",
      "https://cdn.thisiswhyimbroke.com/images/armortruck-concept-behance1-300x250.jpg\n",
      "\n",
      "https://cdn.thisiswhyimbroke.com/images/mom-i-wrote-a-book-about-you-300x250.jpg\n",
      "https://www.razer.com/gaming-laptops/razer-blade-stealth?utm_source=thisiswhyimbroke.com&utm_medium=referral\n",
      "https://www.instacart.com/products/21111500-cinnamon-toast-crunch-light-ice-cream?utm_source=thisiswhyimbroke.com&utm_medium=referral\n",
      "http://www.awin1.com/cread.php?awinaffid=141392&awinmid=6220&clickref=personalized-paint-by-numbers-kit&p=https%3A%2F%2Fwww.etsy.com%2Flisting%2F555801655%2Fpersonalized-paint-by-number-kit-custom%3Fshow_sold_out_detail=1\n",
      "http://www.amazon.com/dp/B079MQWSZX/?tag=097-20&ascsubtag=v7_1_3_2q15_5exu_0_x01_-srt1-\n",
      "http://www.awin1.com/cread.php?awinaffid=141392&awinmid=6220&clickref=playstation-console-wall-clock&p=https%3A%2F%2Fwww.etsy.com%2Flisting%2F237925098%2Fplaystation-1-classic-console-clock%3Fshow_sold_out_detail=1\n",
      "http://www.awin1.com/cread.php?awinaffid=141392&awinmid=6220&clickref=prison-mike-air-freshener&p=https%3A%2F%2Fwww.etsy.com%2Flisting%2F656756649%2Fpreorder-prison-mike-air-freshener-black%3Fshow_sold_out_detail=1\n",
      "http://www.amazon.com/dp/1452110581/?tag=097-20&ascsubtag=v7_1_3_2q15_5ex8_0_x01_-srt1-\n",
      "https://www.indiegogo.com/projects/egret-non-toxic-powerful-disinfectant?utm_source=prm&utm_medium=thisiswhyimbroke#/\n",
      "http://www.amazon.com/dp/B07GBBZ22H/?tag=097-20&ascsubtag=v7_1_3_2q15_5f3s_0_x01_-srt1-\n",
      "http://www.amazon.com/dp/B081YHBXVD/?tag=097-20&ascsubtag=v7_1_3_2q15_1z9l_0_x01_-srt1-\n",
      "https://www.kickstarter.com/projects/rivalcollective/zero-3-hybrid-bifold-card-wallet-in-carbon-fiber?utm_source=thisiswhyimbroke.com&utm_medium=referral\n",
      "http://www.amazon.com/dp/B07PJQKLTW/?tag=097-20&ascsubtag=v7_1_3_2q15_4teo_0_x01_-srt1-\n",
      "https://www.kickstarter.com/projects/prepd/cheat-sheets?utm_source=thisiswhyimbroke.com&utm_medium=referral\n",
      "https://www.sherakhan.com/?utm_source=thisiswhyimbroke.com&utm_medium=referral\n",
      "http://www.awin1.com/cread.php?awinaffid=141392&awinmid=6220&clickref=personalized-love-letter-blanket&p=https%3A%2F%2Fwww.etsy.com%2Flisting%2F710752834%2Flove-letter-blanket-personalized-mothers%3Fshow_sold_out_detail=1\n",
      "https://teslasuit.io/?utm_source=thisiswhyimbroke.com&utm_medium=referral\n",
      "\n",
      "http://www.ebay.com/itm/Air-Jordan-11-XI-Retro-29-XX9-Ultimate-Gift-of-Flight-Package-Pantone-717602-900-/131386402440?utm_source=thisiswhyimbroke.com&utm_medium=referral\n",
      "http://www.amazon.com/dp/B00PUVP7WK/?tag=097-20&ascsubtag=v7_1_3_2q15_5e55_0_x01_-srt1-\n",
      "http://www.amazon.com/dp/B07H8WTFHW/?tag=097-20&ascsubtag=v7_1_3_2q15_5f1g_0_x01_-srt1-\n",
      "http://www.amazon.com/dp/1640011765/?tag=097-20&ascsubtag=v7_1_3_2q15_5ewb_0_x01_-srt1-\n",
      "https://www.bigagnes.com/Gear/Sleeping-Bags/Expandable-Mummy?utm_source=thisiswhyimbroke.com&utm_medium=referral\n",
      "http://www.amazon.com/dp/B087XBKKHT/?tag=097-20&ascsubtag=v7_1_3_2q15_5f3r_0_x01_-srt1-\n",
      "https://www.kickstarter.com/projects/roborazor/inertix-cyberpunk-pocket-exoblade?ref=4hqdrq&utm_source=thisiswhyimbroke.com&utm_medium=referral\n",
      "https://www.behance.net/gallery/93550207/ARMORTRUCK?utm_source=thisiswhyimbroke.com&utm_medium=referral\n",
      "\n",
      "http://www.amazon.com/dp/1946873330/?tag=097-20&ascsubtag=v7_1_3_2q15_5f8n_0_x01_-srt1-\n"
     ]
    }
   ],
   "source": [
    "import urllib.request\n",
    "from selenium import webdriver\n",
    "from selenium.webdriver.chrome.options import Options\n",
    "import time\n",
    "import re\n",
    "\n",
    "chromedriver = \"/home/marina/im-broke-scrapy/chromedriver\"\n",
    "driver = webdriver.Chrome(chromedriver)\n",
    "driver.get(\"http://www.thisiswhyimbroke.com\")\n",
    "\n",
    "time.sleep(3)   \n",
    "driver.refresh()\n",
    "\n",
    "image_elements = driver.find_elements_by_css_selector('#view > div.row.full-width-grid.ng-scope > div > article:nth-child(n) > div.ng-scope > div.image > a > img')\n",
    "\n",
    "for image in image_elements:\n",
    "    print(image.get_attribute('src'))\n",
    "\n",
    "\n",
    "url_elements = image_elements = driver.find_elements_by_css_selector('#view > div.row.full-width-grid.ng-scope > div > article:nth-child(n) > div.ng-scope > div.image > a')  \n",
    "\n",
    "for url in url_elements:\n",
    "    url= url.get_attribute('href').replace(r\"?tag=097-20&ascsubtag=v7_1_3_2q15_5b1y_0_x01_-srt5-\",\"\")\n",
    "    print(url)"
   ]
  }
 ],
 "metadata": {
  "kernelspec": {
   "display_name": "Python 3",
   "language": "python",
   "name": "python3"
  },
  "language_info": {
   "codemirror_mode": {
    "name": "ipython",
    "version": 3
   },
   "file_extension": ".py",
   "mimetype": "text/x-python",
   "name": "python",
   "nbconvert_exporter": "python",
   "pygments_lexer": "ipython3",
   "version": "3.6.9"
  }
 },
 "nbformat": 4,
 "nbformat_minor": 4
}
